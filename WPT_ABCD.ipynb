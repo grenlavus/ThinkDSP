{
  "nbformat": 4,
  "nbformat_minor": 0,
  "metadata": {
    "kernelspec": {
      "display_name": "Python 3",
      "language": "python",
      "name": "python3"
    },
    "language_info": {
      "codemirror_mode": {
        "name": "ipython",
        "version": 3
      },
      "file_extension": ".py",
      "mimetype": "text/x-python",
      "name": "python",
      "nbconvert_exporter": "python",
      "pygments_lexer": "ipython3",
      "version": "3.4.3"
    },
    "colab": {
      "name": "WPT_ABCD.ipynb",
      "provenance": [],
      "include_colab_link": true
    }
  },
  "cells": [
    {
      "cell_type": "markdown",
      "metadata": {
        "id": "view-in-github",
        "colab_type": "text"
      },
      "source": [
        "<a href=\"https://colab.research.google.com/github/grenlavus/ThinkDSP/blob/master/WPT_ABCD.ipynb\" target=\"_parent\"><img src=\"https://colab.research.google.com/assets/colab-badge.svg\" alt=\"Open In Colab\"/></a>"
      ]
    },
    {
      "cell_type": "markdown",
      "metadata": {
        "id": "jw06XdzuokQ8",
        "colab_type": "text"
      },
      "source": [
        "# <center>Quadripolo com adptação conjugada simultânea</center>"
      ]
    },
    {
      "cell_type": "markdown",
      "metadata": {
        "id": "cJSJLVzgokQ9",
        "colab_type": "text"
      },
      "source": [
        "<img src=\"link_ABCD.svg\" >"
      ]
    },
    {
      "cell_type": "markdown",
      "metadata": {
        "id": "YqPh4xkbokQ_",
        "colab_type": "text"
      },
      "source": [
        "\n",
        "\\begin{equation}\n",
        " V_1=A V_2- B I_2 \n",
        "\\end{equation}\n",
        "\n",
        "\\begin{equation}\n",
        " I_1=C V_2- D I_2 \n",
        "\\end{equation}\n",
        "\n",
        "$$\\begin{bmatrix}\n",
        "  V_1 \\\\\n",
        "  I_1 \n",
        "\\end{bmatrix}\n",
        "  =\n",
        "  \\begin{bmatrix}\n",
        "  A & B \\\\\n",
        "  C & D \n",
        " \\end{bmatrix}\n",
        " \\begin{bmatrix}\n",
        "  V_2 \\\\\n",
        "  -I_2 \n",
        "\\end{bmatrix} $$\n"
      ]
    },
    {
      "cell_type": "code",
      "metadata": {
        "colab_type": "code",
        "id": "NdIxNLIHqMv0",
        "colab": {}
      },
      "source": [
        "from google.colab import drive\n",
        "drive.mount('/content/drive')"
      ],
      "execution_count": 0,
      "outputs": []
    },
    {
      "cell_type": "markdown",
      "metadata": {
        "id": "MIBdZfs1okRA",
        "colab_type": "text"
      },
      "source": [
        "## <center> Impedâncias  de Entrada e de Saída</center> \n",
        "\n",
        "$$\n",
        "\\begin{equation}\n",
        " Z_{in}=\\frac{AZ_L+B}{CZ_L+D}\\\\\n",
        " Z_{out}=\\frac{V_2}{I_2}=\\frac{D Z_S + B}{C Z_S  + A}\n",
        "\\end{equation}\n",
        "$$\n",
        "\n",
        "## <center> Impedâncias ótimas</center> \n",
        "\n",
        "$$\n",
        "\\begin{equation}\n",
        "Z_{Sopt}^2+ \\frac{\\Phi}{\\Theta}Z_{Sopt} + \\frac{\\Psi}{\\Theta} =0 \\\\\n",
        "Z_{Lopt}^2+\\frac{\\Gamma}{\\Delta} Z_{Lopt}+\\frac{\\Upsilon}{\\Delta}=0\\\\\n",
        "Z_{Sopt}=- \\frac{\\Phi}{2\\Theta}\\pm\\sqrt{ \\left(\\frac{\\Phi}{2\\Theta}\\right)^2-\\frac{\\Psi}{\\Theta} }\\\\\n",
        "Z_{Lopt}=- \\frac{\\Gamma}{2\\Delta}\\pm\\sqrt{ \\left(\\frac{\\Gamma}{2\\Delta}\\right)^2-\\frac{\\Upsilon}{\\Delta} }\n",
        "\\end{equation}\n",
        "$$\n",
        "\n",
        "$$\n",
        "\\begin{split}\n",
        "&\\Theta=2\\Re\\{ CD^*\\}\\\\\n",
        "&\\Delta=2\\Re\\{AC^*\\}\\\\\n",
        "&\\Phi=2i(\\Im\\{AD^*\\}+\\Im\\{BC^*\\})\\\\\n",
        "&\\Gamma=2i(\\Im\\{A^*D\\}+\\Im\\{BC^*\\})\\\\\n",
        "&\\Psi=-2\\Re\\{ AB^*\\}\\\\\n",
        "&\\Upsilon=-2\\Re\\{BD^*\\}\n",
        "\\end{split}\n",
        "$$"
      ]
    },
    {
      "cell_type": "code",
      "metadata": {
        "id": "HRHeh3HspLC8",
        "colab_type": "code",
        "colab": {}
      },
      "source": [
        ""
      ],
      "execution_count": 0,
      "outputs": []
    },
    {
      "cell_type": "markdown",
      "metadata": {
        "id": "uJQ2CkfOokRB",
        "colab_type": "text"
      },
      "source": [
        "# <center>Aplicando ao link indutivo: </center>"
      ]
    },
    {
      "cell_type": "markdown",
      "metadata": {
        "id": "upqo5aYuokRB",
        "colab_type": "text"
      },
      "source": [
        "<img src=\"link_find_ABCD.svg\" style=\"width:50%\" >"
      ]
    },
    {
      "cell_type": "markdown",
      "metadata": {
        "id": "DYN5GNHookRC",
        "colab_type": "text"
      },
      "source": [
        "A matriz ABCD do link indutivo pode ser encontrada a partir dos dois circuitos acima: $Z_L=0$ e $Z_L=\\infty$.\n",
        "\n",
        "$$\\begin{bmatrix}\n",
        "  V_1 \\\\\n",
        "  I_1 \n",
        "\\end{bmatrix}\n",
        "  =\\frac{1}{i\\omega M}\n",
        "  \\begin{bmatrix}\n",
        "  R_1+i\\omega L_1 & \\omega^2M^2+(R_2+i\\omega L_2)(R_1+i\\omega L_1) \\\\\n",
        "  1 & R_2+i\\omega L_2\n",
        " \\end{bmatrix}\n",
        " \\begin{bmatrix}\n",
        "  V_2 \\\\\n",
        "  -I_2 \n",
        "\\end{bmatrix} $$\n",
        "\n",
        "\n",
        "$$\n",
        "\\begin{split}\n",
        "&\\Theta=2\\frac{R_2}{\\omega^2 M^2}\\\\\n",
        "&\\Delta= 2\\frac{R_1}{\\omega^2 M^2}\\\\\n",
        "&\\Phi=4i\\frac{R_2L_1}{\\omega M^2}   \\\\\n",
        "&\\Gamma=4i\\frac{R_1L_2}{\\omega M^2}\\\\\n",
        "&\\Psi=-2\\frac{R_1^2R_2+\\omega^2(R_1M^2+R_2 L_1^2)}{\\omega^2 M^2}\\\\\n",
        "&\\Upsilon=-2\\frac{R_1R_2^2+\\omega^2(R_2M^2+R_1 L_2^2)}{\\omega^2 M^2}\n",
        "\\end{split}\n",
        "$$\n",
        "\n",
        "\n",
        "$$\n",
        "Z_{Sopt}=- i\\omega L_1\\pm R_1\\sqrt{1+k^2Q_1Q_2}\\\\\n",
        "Z_{Lopt}=- i\\omega L_2\\pm R_2\\sqrt{1+k^2Q_1Q_2}\\\\\n",
        "$$\n"
      ]
    },
    {
      "cell_type": "code",
      "metadata": {
        "id": "mjbilaOzokRD",
        "colab_type": "code",
        "colab": {}
      },
      "source": [
        ""
      ],
      "execution_count": 0,
      "outputs": []
    }
  ]
}